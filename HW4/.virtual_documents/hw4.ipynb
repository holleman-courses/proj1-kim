


import pandas as pd
import numpy as np 
import matplotlib.pyplot as plt

df = pd.read_csv('hw4_data.csv')
df.head()


model_output = df['model_output'].to_numpy()
prediction = df['prediction'].to_numpy()
true_class = df['true_class'].to_numpy()


def true_positives(prediction,true_class):
    count = 0
    for p, t in zip(prediction,true_class):

        if p == 1 and t == 1:
            count +=1
    return count

def false_positives(prediction,true_class):
    count = 0
    for p, t in zip(prediction,true_class):

        if p == 1 and t == 0:
            count +=1
    return count

def true_negatives(prediction,true_class):
    count = 0
    for p, t in zip(prediction,true_class):

        if p == 0 and t == 0:
            count +=1
    return count

def false_negatives(prediction,true_class):
    count = 0
    for p, t in zip(prediction,true_class):

        if p == 0 and t == 1:
            count +=1
    return count
    
    


tp = true_positives(prediction,true_class)
fp = false_positives(prediction,true_class)
tn = true_negatives(prediction,true_class)
fn = false_negatives(prediction,true_class)


print(f"The number of true positives is {tp}")
print(f"The number of false positives is {fp}")
print(f"The number of true negatives is {tn}")
print(f"The number of false negatives is {fn}")


precision = tp/(tp+fp)
recall = tp/(tp+fn)

print(f"Precision is {precision:.4f}")
print(f"Recall is {recall:.4f}")


TPR = tp/(tp+fn)
FPR = fp/(fp+tn)
print(f"True Positive Rate is {TPR:.4f}")
print(f"False Positive Rate is {FPR:.4f}")


from sklearn.metrics import roc_curve, auc
fpr, tpr, thresholds = roc_curve(true_class, model_output)

roc_auc = auc(fpr, tpr)

# Plot ROC Curve
plt.figure(figsize=(8, 6))
plt.plot(fpr, tpr, color="blue", lw=2, label=f"ROC curve (AUC = {roc_auc:.4f})")
plt.plot([0, 1], [0, 1], color="gray", linestyle="--") 
plt.xlim([0.0, 1.0])
plt.ylim([0.0, 1.05])
plt.xlabel("False Positive Rate (FPR)")
plt.ylabel("True Positive Rate (TPR)")
plt.title("Receiver Operating Characteristic (ROC) Curve")
plt.legend(loc="lower right")
plt.grid()
plt.show()


# Find the minimum FPR where TPR is at least 90%
min_fpr_at_90_tpr = min(fpr[tpr >= 0.90])
print(min_fpr_at_90_tpr)





%run train.py





%run eval.py
